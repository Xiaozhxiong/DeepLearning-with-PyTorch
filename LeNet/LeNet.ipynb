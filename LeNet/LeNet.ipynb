{
 "cells": [
  {
   "cell_type": "code",
   "execution_count": 2,
   "metadata": {},
   "outputs": [],
   "source": [
    "import torch\n",
    "import torch.nn as nn\n",
    "import torchvision.datasets as datasets\n",
    "import torchvision.transforms as transforms\n",
    "import torch.utils.data.dataloader as dataloader"
   ]
  },
  {
   "cell_type": "code",
   "execution_count": 3,
   "metadata": {},
   "outputs": [],
   "source": [
    "LeNet=nn.Sequential(\n",
    "    nn.Conv2d(1,6,kernel_size=5,padding=2),nn.Sigmoid(),\n",
    "    nn.AvgPool2d(kernel_size=2,stride=2),\n",
    "    nn.Conv2d(6,16,kernel_size=5),nn.Sigmoid(),\n",
    "    nn.AvgPool2d(kernel_size=2,stride=2),\n",
    "    nn.Flatten(),\n",
    "    nn.Linear(5*5*16,120),nn.Sigmoid(),\n",
    "    nn.Linear(120,84),nn.Sigmoid(),\n",
    "    nn.Linear(84,10)\n",
    ")\n",
    "# 去掉了最后一层的高斯激活"
   ]
  },
  {
   "cell_type": "code",
   "execution_count": 4,
   "metadata": {},
   "outputs": [
    {
     "name": "stdout",
     "output_type": "stream",
     "text": [
      "Downloading http://yann.lecun.com/exdb/mnist/train-images-idx3-ubyte.gz\n",
      "Using downloaded and verified file: .\\MNIST\\raw\\train-images-idx3-ubyte.gz\n",
      "Extracting .\\MNIST\\raw\\train-images-idx3-ubyte.gz to .\\MNIST\\raw\n",
      "\n",
      "Downloading http://yann.lecun.com/exdb/mnist/train-labels-idx1-ubyte.gz\n",
      "Using downloaded and verified file: .\\MNIST\\raw\\train-labels-idx1-ubyte.gz\n",
      "Extracting .\\MNIST\\raw\\train-labels-idx1-ubyte.gz to .\\MNIST\\raw\n",
      "\n",
      "Downloading http://yann.lecun.com/exdb/mnist/t10k-images-idx3-ubyte.gz\n",
      "Using downloaded and verified file: .\\MNIST\\raw\\t10k-images-idx3-ubyte.gz\n",
      "Extracting .\\MNIST\\raw\\t10k-images-idx3-ubyte.gz to .\\MNIST\\raw\n",
      "\n",
      "Downloading http://yann.lecun.com/exdb/mnist/t10k-labels-idx1-ubyte.gz\n",
      "Using downloaded and verified file: .\\MNIST\\raw\\t10k-labels-idx1-ubyte.gz\n",
      "Extracting .\\MNIST\\raw\\t10k-labels-idx1-ubyte.gz to .\\MNIST\\raw\n",
      "\n"
     ]
    }
   ],
   "source": [
    "# 下载MNIST 数据集\n",
    "path='.'\n",
    "mnist=datasets.MNIST(root=path,train=True,download=True,transform=transforms.ToTensor())"
   ]
  },
  {
   "cell_type": "code",
   "execution_count": 6,
   "metadata": {},
   "outputs": [
    {
     "data": {
      "image/png": "[encoded data removed]",
      "text/plain": [
       "<Figure size 432x288 with 1 Axes>"
      ]
     },
     "metadata": {
      "needs_background": "light"
     },
     "output_type": "display_data"
    }
   ],
   "source": [
    "import matplotlib.pyplot as plt\n",
    "img,label=mnist[0]\n",
    "plt.imshow(img.permute(1,2,0))\n",
    "plt.show()"
   ]
  },
  {
   "cell_type": "code",
   "execution_count": 7,
   "metadata": {},
   "outputs": [
    {
     "name": "stdout",
     "output_type": "stream",
     "text": [
      "torch.Size([1, 28, 28]) 5\n"
     ]
    }
   ],
   "source": [
    "print(img.shape,label)"
   ]
  },
  {
   "cell_type": "code",
   "execution_count": 8,
   "metadata": {},
   "outputs": [],
   "source": [
    "batch_size=256\n",
    "train_data=datasets.MNIST('.',train=True,download=True,transform=transforms.ToTensor())\n",
    "test_data=datasets.MNIST('.',train=False,download=True,transform=transforms.ToTensor())\n",
    "train_loader=dataloader.DataLoader(train_data,batch_size=batch_size,shuffle=True)\n",
    "test_loader=dataloader.DataLoader(test_data,batch_size=batch_size,shuffle=False)"
   ]
  },
  {
   "cell_type": "code",
   "execution_count": 15,
   "metadata": {},
   "outputs": [],
   "source": [
    "# 训练\n",
    "\n",
    "def cal(outputs,Y):\n",
    "    pred=torch.argmax(outputs,dim=1)\n",
    "    correct=(pred==Y).sum().item()\n",
    "    return correct\n",
    "\n",
    "\n",
    "def test_loop(net,device,test_loader,loss_fn):\n",
    "    net.eval()\n",
    "    test_acc=0\n",
    "    test_loss=0\n",
    "    net=net.to(device)\n",
    "    with torch.no_grad():\n",
    "        total=0\n",
    "        correct=0\n",
    "        for X,Y in test_loader:\n",
    "            X,Y=X.to(device),Y.to(device)\n",
    "            outputs=net(X)\n",
    "            loss=loss_fn(outputs,Y)\n",
    "            test_loss+=loss.item()\n",
    "            total+=Y.size(0)\n",
    "            correct+=cal(outputs,Y)\n",
    "        test_acc=correct/total\n",
    "    net.train()\n",
    "    return 100*test_acc,test_loss\n",
    "\n",
    "\n",
    "def train_loop(net,device,train_loader,test_loader,optimizer,loss_fn,epochs=100):\n",
    "    net.train()\n",
    "    train_acc=[]\n",
    "    train_loss=[]\n",
    "    test_acc=[]\n",
    "    test_loss=[]\n",
    "    net=net.to(device)\n",
    "    for epoch in range(epochs):\n",
    "        epoch_loss=0\n",
    "        correct=0\n",
    "        total=0\n",
    "        for i,(X,Y) in enumerate(train_loader):\n",
    "            X,Y=X.to(device),Y.to(device)\n",
    "            outputs=net(X)\n",
    "            loss=loss_fn(outputs,Y)\n",
    "            optimizer.zero_grad()\n",
    "            loss.backward()\n",
    "            optimizer.step()\n",
    "            epoch_loss+=loss.item()\n",
    "            total+=Y.size(0)\n",
    "            correct+=cal(outputs,Y)\n",
    "\n",
    "        train_acc.append(100*correct/total)\n",
    "        train_loss.append(epoch_loss)\n",
    "        acc,loss=test_loop(net,device,test_loader,loss_fn)\n",
    "        test_acc.append(acc)\n",
    "        test_loss.append(loss)\n",
    "        if epoch==epochs-1:\n",
    "            print(f'train acc = {train_acc[-1]}, test acc = {test_acc[-1]}')\n",
    "\n",
    "    plt.subplot(2,1,1)\n",
    "    plt.title('acc')\n",
    "    plt.plot(train_acc,label='train')\n",
    "    plt.plot(test_acc,label='test')\n",
    "\n",
    "    # plt.subplot(2,1,2)\n",
    "    # plt.title('loss')\n",
    "    # plt.plot(train_loss,label='train')\n",
    "    # plt.plot(test_loss,label='test')"
   ]
  },
  {
   "cell_type": "code",
   "execution_count": 16,
   "metadata": {},
   "outputs": [
    {
     "name": "stdout",
     "output_type": "stream",
     "text": [
      "cuda\n",
      "train acc = 97.66333333333333, test acc = 97.66\n"
     ]
    },
    {
     "data": {
      "image/png": "[encoded data removed]",
      "text/plain": [
       "<Figure size 432x288 with 1 Axes>"
      ]
     },
     "metadata": {
      "needs_background": "light"
     },
     "output_type": "display_data"
    }
   ],
   "source": [
    "device=(torch.device('cuda') if torch.cuda.is_available() else  torch.device('cpu'))\n",
    "print(device)\n",
    "learning_rate=0.9\n",
    "optimizer=torch.optim.SGD(LeNet.parameters(),lr=learning_rate)\n",
    "loss_fn=nn.CrossEntropyLoss()\n",
    "epochs=10\n",
    "train_loop(LeNet,device,train_loader,test_loader,optimizer,loss_fn,epochs=epochs)"
   ]
  }
 ],
 "metadata": {
  "interpreter": {
   "hash": "97ae724bfa85b9b34df7982b8bb8c7216f435b92902d749e4263f71162bea840"
  },
  "kernelspec": {
   "display_name": "Python 3.8.8 ('base')",
   "language": "python",
   "name": "python3"
  },
  "language_info": {
   "codemirror_mode": {
    "name": "ipython",
    "version": 3
   },
   "file_extension": ".py",
   "mimetype": "text/x-python",
   "name": "python",
   "nbconvert_exporter": "python",
   "pygments_lexer": "ipython3",
   "version": "3.8.8"
  },
  "orig_nbformat": 4
 },
 "nbformat": 4,
 "nbformat_minor": 2
}
