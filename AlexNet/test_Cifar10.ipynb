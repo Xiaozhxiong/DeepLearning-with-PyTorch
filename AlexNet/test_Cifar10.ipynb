{
 "cells": [
  {
   "cell_type": "code",
   "execution_count": 1,
   "metadata": {},
   "outputs": [],
   "source": [
    "import torch\n",
    "import torchvision\n",
    "import torchvision.transforms as transforms\n",
    "from train import NetSolver\n",
    "import matplotlib.pyplot as plt"
   ]
  },
  {
   "cell_type": "code",
   "execution_count": 2,
   "metadata": {},
   "outputs": [
    {
     "name": "stdout",
     "output_type": "stream",
     "text": [
      "Files already downloaded and verified\n"
     ]
    }
   ],
   "source": [
    "tensor_cifar10=torchvision.datasets.CIFAR10('./CIFAR10/',train=True,download=True,transform=transforms.ToTensor())"
   ]
  },
  {
   "cell_type": "code",
   "execution_count": 3,
   "metadata": {},
   "outputs": [
    {
     "data": {
      "image/png": "[encoded data removed]",
      "text/plain": [
       "<Figure size 432x288 with 1 Axes>"
      ]
     },
     "metadata": {
      "needs_background": "light"
     },
     "output_type": "display_data"
    },
    {
     "name": "stdout",
     "output_type": "stream",
     "text": [
      "6\n"
     ]
    }
   ],
   "source": [
    "img,label=tensor_cifar10[0] # C*H*W\n",
    "plt.imshow(img.permute(1,2,0))\n",
    "plt.show()\n",
    "print(label)"
   ]
  },
  {
   "cell_type": "code",
   "execution_count": 4,
   "metadata": {},
   "outputs": [
    {
     "data": {
      "text/plain": [
       "torch.Size([3, 32, 32, 50000])"
      ]
     },
     "execution_count": 4,
     "metadata": {},
     "output_type": "execute_result"
    }
   ],
   "source": [
    "imgs=torch.stack([img for img,_ in tensor_cifar10],dim=3) # 堆叠图片\n",
    "imgs.shape"
   ]
  },
  {
   "cell_type": "code",
   "execution_count": 5,
   "metadata": {},
   "outputs": [
    {
     "data": {
      "text/plain": [
       "tensor([0.4914, 0.4822, 0.4465])"
      ]
     },
     "execution_count": 5,
     "metadata": {},
     "output_type": "execute_result"
    }
   ],
   "source": [
    "# 计算平均值\n",
    "imgs.view(3,-1).mean(dim=1)"
   ]
  },
  {
   "cell_type": "code",
   "execution_count": 6,
   "metadata": {},
   "outputs": [
    {
     "data": {
      "text/plain": [
       "tensor([0.2470, 0.2435, 0.2616])"
      ]
     },
     "execution_count": 6,
     "metadata": {},
     "output_type": "execute_result"
    }
   ],
   "source": [
    "# 计算标准差\n",
    "imgs.view(3,-1).std(dim=1)"
   ]
  },
  {
   "cell_type": "code",
   "execution_count": 7,
   "metadata": {},
   "outputs": [
    {
     "name": "stdout",
     "output_type": "stream",
     "text": [
      "Files already downloaded and verified\n",
      "Files already downloaded and verified\n"
     ]
    }
   ],
   "source": [
    "batch_size=128\n",
    "# Compose(list of Transform objects):composes several transforms together. \n",
    "# Normalize变换\n",
    "# Resize():Resize the input image to the given size. If the image is torch Tensor, it is expected to have […, H, W]\n",
    "# CenterCrop():Crops the given image at the center.If image size is smaller than output size along any edge, \n",
    "# image is padded with 0 and then center cropped.\n",
    "# RandomHorizontalFlip():Horizontally flip the given image randomly with a given probability(p=0.5)\n",
    "# TenCrop():Crop the given image into four corners and the central crop plus the flipped version of these \n",
    "# (horizontal flipping is used by default). \n",
    "train_transform = transforms.Compose([\n",
    "    transforms.Resize(256), transforms.CenterCrop(256), transforms.RandomCrop(224), transforms.RandomHorizontalFlip(),\n",
    "    transforms.ToTensor(), transforms.Normalize(mean=[0.4914, 0.4822, 0.4465], std=[0.2470, 0.2435, 0.2616])])\n",
    "\n",
    "valid_transform = transforms.Compose([\n",
    "    transforms.Resize(256), transforms.CenterCrop(256), transforms.RandomCrop(224),transforms.ToTensor(),\n",
    "    transforms.Normalize(mean=[0.4914, 0.4822, 0.4465], std=[0.2470, 0.2435, 0.2616])\n",
    "    ])\n",
    "\n",
    "train_data=torchvision.datasets.CIFAR10('./CIFAR10/',train=True,download=True,transform=train_transform)\n",
    "train_loader=torch.utils.data.DataLoader(train_data,batch_size=batch_size,shuffle=True,num_workers=4,pin_memory=True)\n",
    "# num_workers:how many subprocesses to use for data loading. 0 means that the data will be loaded in the main process. (default: 0)\n",
    "# pin_memory:If True, the data loader will copy Tensors into CUDA pinned memory before returning them. \n",
    "valid_data=torchvision.datasets.CIFAR10('./CIFAR10/',train=False,download=True,transform=valid_transform)\n",
    "valid_loader=torch.utils.data.DataLoader(valid_data,batch_size=batch_size,shuffle=False,num_workers=4,pin_memory=True)"
   ]
  },
  {
   "cell_type": "code",
   "execution_count": 8,
   "metadata": {},
   "outputs": [],
   "source": [
    "class_number=10\n",
    "epochs=200\n",
    "learning_rate=0.01\n",
    "momentum = 0.9\n",
    "weight_decay = 0.0005"
   ]
  },
  {
   "cell_type": "code",
   "execution_count": 9,
   "metadata": {},
   "outputs": [],
   "source": [
    "AlexNet=NetSolver(class_number=class_number)"
   ]
  },
  {
   "cell_type": "code",
   "execution_count": 10,
   "metadata": {},
   "outputs": [
    {
     "name": "stdout",
     "output_type": "stream",
     "text": [
      "Saved best model,best_acc = 10.328000\n",
      "Saved best model,best_acc = 10.636000\n",
      "Saved best model,best_acc = 10.990000\n",
      "Saved best model,best_acc = 12.180000\n",
      "Saved best model,best_acc = 13.748000\n",
      "Saved best model,best_acc = 15.328000\n",
      "Saved best model,best_acc = 16.938000\n",
      "Saved best model,best_acc = 20.608000\n",
      "Saved best model,best_acc = 28.170000\n",
      "Saved best model,best_acc = 31.378000\n",
      "Saved best model,best_acc = 34.224000\n",
      "Saved best model,best_acc = 36.924000\n",
      "Saved best model,best_acc = 38.830000\n",
      "Saved best model,best_acc = 40.654000\n",
      "Saved best model,best_acc = 41.712000\n",
      "Saved best model,best_acc = 44.226000\n",
      "Saved best model,best_acc = 46.392000\n",
      "Saved best model,best_acc = 49.270000\n",
      "Saved best model,best_acc = 51.116000\n",
      "Saved best model,best_acc = 52.798000\n",
      "Saved best model,best_acc = 53.954000\n",
      "Saved best model,best_acc = 55.438000\n",
      "Saved best model,best_acc = 57.196000\n",
      "Saved best model,best_acc = 57.810000\n",
      "Saved best model,best_acc = 59.070000\n",
      "Saved best model,best_acc = 60.102000\n",
      "Saved best model,best_acc = 61.080000\n",
      "Saved best model,best_acc = 62.042000\n",
      "Saved best model,best_acc = 62.208000\n",
      "Saved best model,best_acc = 63.464000\n",
      "Saved best model,best_acc = 64.242000\n",
      "Saved best model,best_acc = 65.494000\n",
      "Saved best model,best_acc = 66.562000\n",
      "Saved best model,best_acc = 67.126000\n",
      "Saved best model,best_acc = 67.728000\n",
      "Saved best model,best_acc = 68.618000\n",
      "Saved best model,best_acc = 68.788000\n",
      "Saved best model,best_acc = 69.926000\n",
      "Saved best model,best_acc = 71.092000\n",
      "Saved best model,best_acc = 71.136000\n",
      "Saved best model,best_acc = 71.874000\n",
      "Saved best model,best_acc = 72.494000\n",
      "Saved best model,best_acc = 73.128000\n",
      "Saved best model,best_acc = 73.838000\n",
      "Saved best model,best_acc = 74.222000\n",
      "Saved best model,best_acc = 74.554000\n",
      "Saved best model,best_acc = 74.920000\n",
      "Saved best model,best_acc = 76.020000\n",
      "Saved best model,best_acc = 76.284000\n",
      "Saved best model,best_acc = 76.646000\n",
      "Saved best model,best_acc = 76.738000\n",
      "Saved best model,best_acc = 77.348000\n",
      "Saved best model,best_acc = 77.442000\n",
      "Saved best model,best_acc = 77.814000\n",
      "Saved best model,best_acc = 78.024000\n",
      "Saved best model,best_acc = 78.702000\n",
      "Saved best model,best_acc = 78.730000\n",
      "Saved best model,best_acc = 79.202000\n",
      "Saved best model,best_acc = 79.230000\n",
      "Saved best model,best_acc = 79.388000\n",
      "Saved best model,best_acc = 80.038000\n",
      "Saved best model,best_acc = 80.660000\n",
      "Saved best model,best_acc = 80.984000\n",
      "Saved best model,best_acc = 81.368000\n",
      "Saved best model,best_acc = 81.598000\n",
      "Saved best model,best_acc = 82.064000\n",
      "Saved best model,best_acc = 82.326000\n",
      "Saved best model,best_acc = 82.658000\n",
      "Saved best model,best_acc = 82.908000\n",
      "Saved best model,best_acc = 83.008000\n",
      "Saved best model,best_acc = 83.020000\n",
      "Saved best model,best_acc = 83.442000\n",
      "Saved best model,best_acc = 83.704000\n",
      "Saved best model,best_acc = 84.028000\n",
      "Saved best model,best_acc = 84.314000\n",
      "Saved best model,best_acc = 84.598000\n",
      "Saved best model,best_acc = 84.684000\n",
      "Saved best model,best_acc = 85.352000\n",
      "Saved best model,best_acc = 85.408000\n",
      "Saved best model,best_acc = 85.526000\n",
      "Saved best model,best_acc = 85.772000\n",
      "Saved best model,best_acc = 85.820000\n",
      "Saved best model,best_acc = 86.092000\n",
      "Saved best model,best_acc = 86.370000\n",
      "epoch 99/200:train acc = 86.198 , train_loss = 626.5362446308136\n",
      "Saved best model,best_acc = 86.576000\n",
      "Saved best model,best_acc = 86.750000\n",
      "Saved best model,best_acc = 86.838000\n",
      "Saved best model,best_acc = 86.962000\n",
      "Saved best model,best_acc = 87.160000\n",
      "Saved best model,best_acc = 87.280000\n",
      "Saved best model,best_acc = 87.700000\n",
      "Saved best model,best_acc = 87.976000\n",
      "Saved best model,best_acc = 88.118000\n",
      "Saved best model,best_acc = 88.220000\n",
      "Saved best model,best_acc = 88.448000\n",
      "Saved best model,best_acc = 88.456000\n",
      "Saved best model,best_acc = 88.636000\n",
      "Saved best model,best_acc = 88.686000\n",
      "Saved best model,best_acc = 88.744000\n",
      "Saved best model,best_acc = 88.978000\n",
      "Saved best model,best_acc = 89.006000\n",
      "Saved best model,best_acc = 89.054000\n",
      "Saved best model,best_acc = 89.310000\n",
      "Saved best model,best_acc = 89.366000\n",
      "Saved best model,best_acc = 89.472000\n",
      "Saved best model,best_acc = 89.602000\n",
      "Saved best model,best_acc = 89.702000\n",
      "Saved best model,best_acc = 89.708000\n",
      "Saved best model,best_acc = 89.864000\n",
      "Saved best model,best_acc = 90.166000\n",
      "Saved best model,best_acc = 90.304000\n",
      "Saved best model,best_acc = 90.556000\n",
      "Saved best model,best_acc = 90.630000\n",
      "Saved best model,best_acc = 90.646000\n",
      "Saved best model,best_acc = 90.664000\n",
      "Saved best model,best_acc = 90.676000\n",
      "Saved best model,best_acc = 90.918000\n",
      "Saved best model,best_acc = 91.080000\n",
      "Saved best model,best_acc = 91.126000\n",
      "Saved best model,best_acc = 91.346000\n",
      "Saved best model,best_acc = 91.354000\n",
      "Saved best model,best_acc = 91.618000\n",
      "Saved best model,best_acc = 91.706000\n",
      "Saved best model,best_acc = 91.800000\n",
      "Saved best model,best_acc = 92.014000\n",
      "Saved best model,best_acc = 92.108000\n",
      "Saved best model,best_acc = 92.214000\n",
      "Saved best model,best_acc = 92.320000\n",
      "Saved best model,best_acc = 92.500000\n",
      "Saved best model,best_acc = 92.566000\n",
      "Saved best model,best_acc = 92.750000\n",
      "Saved best model,best_acc = 92.976000\n",
      "Saved best model,best_acc = 93.112000\n",
      "Saved best model,best_acc = 93.188000\n",
      "Saved best model,best_acc = 93.266000\n",
      "epoch 199/200:train acc = 93.294 , train_loss = 599.9297839403152\n",
      "Saved best model,best_acc = 93.294000\n"
     ]
    }
   ],
   "source": [
    "AlexNet.train(trainsets=train_loader,validsets=valid_loader,epochs=epochs,\n",
    "            batch_size=batch_size,learning_rate=learning_rate,momentum=momentum, weight_decay=weight_decay)"
   ]
  },
  {
   "cell_type": "code",
   "execution_count": 15,
   "metadata": {},
   "outputs": [
    {
     "data": {
      "image/png": "[encoded data removed]",
      "text/plain": [
       "<Figure size 432x288 with 1 Axes>"
      ]
     },
     "metadata": {
      "needs_background": "light"
     },
     "output_type": "display_data"
    }
   ],
   "source": [
    "plt.xlabel('epoch')\n",
    "plt.ylabel('acc')\n",
    "plt.plot(AlexNet.train_acc,label='train')\n",
    "plt.plot(AlexNet.valid_acc,label='valid')\n",
    "plt.legend()\n",
    "plt.show()"
   ]
  }
 ],
 "metadata": {
  "interpreter": {
   "hash": "97ae724bfa85b9b34df7982b8bb8c7216f435b92902d749e4263f71162bea840"
  },
  "kernelspec": {
   "display_name": "Python 3.8.8 ('base')",
   "language": "python",
   "name": "python3"
  },
  "language_info": {
   "codemirror_mode": {
    "name": "ipython",
    "version": 3
   },
   "file_extension": ".py",
   "mimetype": "text/x-python",
   "name": "python",
   "nbconvert_exporter": "python",
   "pygments_lexer": "ipython3",
   "version": "3.8.8"
  },
  "orig_nbformat": 4
 },
 "nbformat": 4,
 "nbformat_minor": 2
}
